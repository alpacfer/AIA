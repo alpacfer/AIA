{
 "cells": [
  {
   "cell_type": "markdown",
   "metadata": {},
   "source": [
    "# Question 1\n",
    "**You have an image of the size 256 × 384 pixels and you want to compute dense features consisting of pixel intensities collected from 5 × 5 patches centered around each pixel, where such patch is valid. You want to store the extracted features in a 3D array. What is the total number of elements (i.e. a single number which is a product height × width × depth) of the array you would choose to store the features?**"
   ]
  },
  {
   "cell_type": "markdown",
   "metadata": {},
   "source": [
    "- **Image Size:** The original image is 256 × 384 pixels.\n",
    "\n",
    "- **Patch Size:** Each feature is computed from a 5 × 5 patch centered around each pixel.\n",
    "\n",
    "- **Valid Patches:** Only patches that are entirely within the image boundaries are considered valid. Since the patches are 5 × 5, the outermost 2 pixels on each side of the image cannot serve as centers for valid patches. This reduces the effective area of the image to (256 - 4) × (384 - 4) = 252 × 380.\n",
    "\n",
    "- **Feature Dimension:** Each pixel intensity in a patch contributes to the feature vector. Thus, for a 5 × 5 patch, there are 5 × 5 = 25 pixel intensities in each feature vector.\n",
    "\n",
    "- **3D Array Dimensions:**\n",
    "  - The height and width are reduced to account for valid patches, resulting in 252 × 380.\n",
    "  - The depth corresponds to the number of pixel intensities in a patch, which is 25.\n",
    "  - Total Number of Elements: The total number of elements in the 3D array is the product of its dimensions: 252 (height) × 380 (width) × 25 (depth)."
   ]
  },
  {
   "cell_type": "markdown",
   "metadata": {},
   "source": [
    "The total number of elements in the 3D array you would choose to store the features is 2,394,000. "
   ]
  },
  {
   "cell_type": "markdown",
   "metadata": {},
   "source": [
    "# Question 2\n",
    "\n",
    "**You are approaching a 3-label segmentation as explained in the exercise 3.2. You choose to cluster the features extracted from the training image in 1000 clusters. \n",
    "It turns out, that cluster number 408 contains 653 image features. Out of these 653 features, 483 features are labeled with label 2. What is p408(1) + p408(3)?**"
   ]
  },
  {
   "cell_type": "markdown",
   "metadata": {},
   "source": [
    "## Explaination of the question"
   ]
  },
  {
   "cell_type": "markdown",
   "metadata": {},
   "source": [
    "You're dealing with a 3-label segmentation problem, where an image is divided into segments that are classified into one of three labels. You have clustered the features extracted from an image into 1000 different clusters based on similarities among those features. Cluster number 408, specifically, contains 653 image features. Of these, 483 features are associated with label 2.\n",
    "\n",
    "In simpler terms, it's asking for the combined chance that a feature from cluster 408 is either label 1 or label 3, given the distribution of labels within that cluster."
   ]
  },
  {
   "cell_type": "markdown",
   "metadata": {},
   "source": [
    "### Step-by-Step Solution\n",
    "\n",
    "1. **Probabilities Introduction:** Each \\(p_{408}(x)\\) can be seen as the fraction of features in cluster 408 that belong to label \\(x\\). Probabilities range from 0 to 1, where 0 means no features of that label exist in the cluster, and 1 means all features belong to that label.\n",
    "\n",
    "2. **Given Information:** We know that 483 out of 653 features in cluster 408 are of label 2. This means \\(p_{408}(2) = \\frac{483}{653}\\).\n",
    "\n",
    "3. **Calculation of Remaining Probabilities:** Since there are only three labels, and the probabilities must sum up to 1 (as every feature must be classified under one of the labels), we can use the given information to calculate the sum of probabilities for the remaining labels, \\(p_{408}(1)\\) and \\(p_{408}(3)\\), by subtracting \\(p_{408}(2)\\) from 1. \n",
    "\n",
    "4. **Formula Application:** \n",
    "   - To find \\(p_{408}(1) + p_{408}(3)\\), we calculate \\(1 - p_{408}(2)\\).\n",
    "   - \\(p_{408}(2)\\) is found by dividing the number of features with label 2 by the total number of features in cluster 408, as already stated.\n",
    "\n",
    "5. **Subtraction to Find the Sum:** After calculating \\(p_{408}(2)\\), we subtract this value from 1 to find the sum of \\(p_{408}(1) + p_{408}(3)\\).\n",
    "\n",
    "This approach simplifies understanding the distribution of labels within the cluster and how it affects the overall segmentation model. By focusing on the calculation of the combined probability of the remaining labels, you gain insight into how features within a cluster are distributed across the available labels, excluding the one already specified (label 2 in this case). This calculation and the resulting probability are crucial for understanding the model's behavior and how it interprets the data within that specific cluster."
   ]
  },
  {
   "cell_type": "code",
   "execution_count": 3,
   "metadata": {},
   "outputs": [
    {
     "name": "stdout",
     "output_type": "stream",
     "text": [
      "p408(1) + p408(3) =  0.2603369065849923\n"
     ]
    }
   ],
   "source": [
    "# Number of features in cluster 408 with label 2\n",
    "features_label_2 = 483\n",
    "# Total number of features in cluster 408\n",
    "total_features = 653\n",
    "\n",
    "# Calculate p408(2)\n",
    "p408_2 = features_label_2 / total_features\n",
    "\n",
    "# Calculate p408(1) + p408(3)\n",
    "p408_1_plus_p408_3 = 1 - p408_2\n",
    "p408_1_plus_p408_3\n",
    "\n",
    "print(\"p408(1) + p408(3) = \", p408_1_plus_p408_3)"
   ]
  },
  {
   "cell_type": "markdown",
   "metadata": {},
   "source": [
    "# Question 3\n",
    "\n",
    "You are segmenting an image into labels 1, 2, and 3. You represent the probabil ity image using an r × c × 3 array. The first three rows, five columns and two layers of the probability image are shown below. Which label is dominant in the segmentation of this 3 × 5 window?"
   ]
  },
  {
   "cell_type": "markdown",
   "metadata": {},
   "source": [
    "To determine which label is dominant in the segmentation of the 3 × 5 window described by the given probability arrays \\(P1\\) and \\(P2\\), we can follow these steps:\n",
    "\n",
    "1. **Understand the Structure:** The probability image is represented as an \\(r \\times c \\times 3\\) array, indicating there are three layers, each corresponding to one of the labels (1, 2, and 3). The arrays \\(P1\\) and \\(P2\\) given represent the probabilities for labels 1 and 2 across the first three rows and five columns. The third layer (for label 3) is not provided but can be inferred since the sum of probabilities for each pixel across all labels must equal 1.\n",
    "\n",
    "2. **Calculate Missing Layer:** To find the dominant label, we first calculate the probabilities for label 3 by subtracting the sum of probabilities for labels 1 and 2 from 1 for each corresponding pixel.\n",
    "\n",
    "3. **Compare Probabilities:** For each pixel, we compare the probabilities across the three labels to determine which label has the highest probability, indicating it is the most likely label for that pixel.\n",
    "\n",
    "4. **Determine Dominance:** The dominant label in the window is the one that occurs most frequently as the highest probability across all pixels in the 3 × 5 window.\n",
    "\n",
    "The calculation showed that **label 3** is the dominant label in the segmentation of this 3 × 5 window. Here's the distribution of the dominant labels for each pixel in the window:\n",
    "\n"
   ]
  },
  {
   "cell_type": "markdown",
   "metadata": {},
   "source": [
    "3 3 3 3 1\n",
    "\n",
    "3 3 3 2 1\n",
    "\n",
    "3 3 2 2 2"
   ]
  },
  {
   "cell_type": "markdown",
   "metadata": {},
   "source": [
    "\n",
    "As shown, label 3 is the most common label across the window, indicating it is the dominant label in the segmentation.\n"
   ]
  },
  {
   "cell_type": "code",
   "execution_count": 4,
   "metadata": {},
   "outputs": [
    {
     "data": {
      "text/plain": [
       "(3,\n",
       " array([[3, 3, 3, 3, 1],\n",
       "        [3, 3, 3, 2, 1],\n",
       "        [3, 3, 2, 2, 2]], dtype=int64))"
      ]
     },
     "execution_count": 4,
     "metadata": {},
     "output_type": "execute_result"
    }
   ],
   "source": [
    "import numpy as np\n",
    "\n",
    "# Given probability arrays for labels 1 and 2\n",
    "P1 = np.array([\n",
    "    [0.01, 0.11, 0.21, 0.31, 0.41],\n",
    "    [0.04, 0.14, 0.24, 0.34, 0.44],\n",
    "    [0.07, 0.17, 0.27, 0.37, 0.47]\n",
    "])\n",
    "P2 = np.array([\n",
    "    [0.23, 0.26, 0.29, 0.32, 0.35],\n",
    "    [0.30, 0.33, 0.36, 0.39, 0.42],\n",
    "    [0.37, 0.40, 0.43, 0.46, 0.49]\n",
    "])\n",
    "\n",
    "# Calculating probabilities for label 3\n",
    "P3 = 1 - (P1 + P2)\n",
    "\n",
    "# Determining the dominant label for each pixel\n",
    "dominant_label_matrix = np.argmax(np.stack((P1, P2, P3)), axis=0) + 1\n",
    "\n",
    "# Calculating the occurrence of each label to find the dominant one\n",
    "(unique, counts) = np.unique(dominant_label_matrix, return_counts=True)\n",
    "dominant_label = unique[np.argmax(counts)]\n",
    "\n",
    "dominant_label, dominant_label_matrix\n"
   ]
  }
 ],
 "metadata": {
  "kernelspec": {
   "display_name": "course02502",
   "language": "python",
   "name": "python3"
  },
  "language_info": {
   "codemirror_mode": {
    "name": "ipython",
    "version": 3
   },
   "file_extension": ".py",
   "mimetype": "text/x-python",
   "name": "python",
   "nbconvert_exporter": "python",
   "pygments_lexer": "ipython3",
   "version": "3.9.17"
  }
 },
 "nbformat": 4,
 "nbformat_minor": 2
}
